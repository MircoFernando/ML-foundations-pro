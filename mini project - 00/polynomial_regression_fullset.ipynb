{
 "cells": [
  {
   "cell_type": "markdown",
   "id": "16b08f0c",
   "metadata": {},
   "source": [
    "# Part 1 Polynomial regression Full dataset\n"
   ]
  },
  {
   "cell_type": "code",
   "execution_count": 49,
   "id": "f3fdc1f0",
   "metadata": {},
   "outputs": [],
   "source": [
    "import numpy as np\n",
    "import pandas as pd \n",
    "import matplotlib.pyplot as plt\n",
    "from itertools import combinations_with_replacement"
   ]
  },
  {
   "cell_type": "code",
   "execution_count": 50,
   "id": "722eacbc",
   "metadata": {},
   "outputs": [
    {
     "data": {
      "text/html": [
       "<div>\n",
       "<style scoped>\n",
       "    .dataframe tbody tr th:only-of-type {\n",
       "        vertical-align: middle;\n",
       "    }\n",
       "\n",
       "    .dataframe tbody tr th {\n",
       "        vertical-align: top;\n",
       "    }\n",
       "\n",
       "    .dataframe thead th {\n",
       "        text-align: right;\n",
       "    }\n",
       "</style>\n",
       "<table border=\"1\" class=\"dataframe\">\n",
       "  <thead>\n",
       "    <tr style=\"text-align: right;\">\n",
       "      <th></th>\n",
       "      <th>MemberName</th>\n",
       "      <th>EducationLevel</th>\n",
       "      <th>Attendance</th>\n",
       "      <th>TotalHours</th>\n",
       "      <th>AssignmentsCompleted</th>\n",
       "      <th>HackathonParticipation</th>\n",
       "      <th>GitHubScore</th>\n",
       "      <th>PeerReviewScore</th>\n",
       "      <th>CourseName</th>\n",
       "      <th>CapstoneScore</th>\n",
       "    </tr>\n",
       "  </thead>\n",
       "  <tbody>\n",
       "    <tr>\n",
       "      <th>0</th>\n",
       "      <td>Theekshana Rathnayake</td>\n",
       "      <td>3</td>\n",
       "      <td>79.9</td>\n",
       "      <td>43.7</td>\n",
       "      <td>2</td>\n",
       "      <td>0</td>\n",
       "      <td>62.8</td>\n",
       "      <td>5.0</td>\n",
       "      <td>Foundations of ML</td>\n",
       "      <td>45.3</td>\n",
       "    </tr>\n",
       "    <tr>\n",
       "      <th>1</th>\n",
       "      <td>Mayura Sandakalum Sellapperuma</td>\n",
       "      <td>2</td>\n",
       "      <td>76.8</td>\n",
       "      <td>95.6</td>\n",
       "      <td>6</td>\n",
       "      <td>0</td>\n",
       "      <td>87.4</td>\n",
       "      <td>2.7</td>\n",
       "      <td>Foundations of ML</td>\n",
       "      <td>78.8</td>\n",
       "    </tr>\n",
       "    <tr>\n",
       "      <th>2</th>\n",
       "      <td>Amila Narangoda</td>\n",
       "      <td>3</td>\n",
       "      <td>96.6</td>\n",
       "      <td>75.9</td>\n",
       "      <td>8</td>\n",
       "      <td>0</td>\n",
       "      <td>98.4</td>\n",
       "      <td>2.8</td>\n",
       "      <td>Foundations of ML</td>\n",
       "      <td>65.4</td>\n",
       "    </tr>\n",
       "    <tr>\n",
       "      <th>3</th>\n",
       "      <td>Nisal Gamage</td>\n",
       "      <td>1</td>\n",
       "      <td>74.5</td>\n",
       "      <td>63.9</td>\n",
       "      <td>7</td>\n",
       "      <td>0</td>\n",
       "      <td>76.8</td>\n",
       "      <td>1.7</td>\n",
       "      <td>Production-Ready ML Systems</td>\n",
       "      <td>100.0</td>\n",
       "    </tr>\n",
       "    <tr>\n",
       "      <th>4</th>\n",
       "      <td>Tharusha Vihanga</td>\n",
       "      <td>2</td>\n",
       "      <td>83.2</td>\n",
       "      <td>24.0</td>\n",
       "      <td>6</td>\n",
       "      <td>0</td>\n",
       "      <td>41.8</td>\n",
       "      <td>4.2</td>\n",
       "      <td>Foundations of ML</td>\n",
       "      <td>40.1</td>\n",
       "    </tr>\n",
       "  </tbody>\n",
       "</table>\n",
       "</div>"
      ],
      "text/plain": [
       "                       MemberName  EducationLevel  Attendance  TotalHours  \\\n",
       "0           Theekshana Rathnayake               3        79.9        43.7   \n",
       "1  Mayura Sandakalum Sellapperuma               2        76.8        95.6   \n",
       "2                 Amila Narangoda               3        96.6        75.9   \n",
       "3                    Nisal Gamage               1        74.5        63.9   \n",
       "4                Tharusha Vihanga               2        83.2        24.0   \n",
       "\n",
       "   AssignmentsCompleted  HackathonParticipation  GitHubScore  PeerReviewScore  \\\n",
       "0                     2                       0         62.8              5.0   \n",
       "1                     6                       0         87.4              2.7   \n",
       "2                     8                       0         98.4              2.8   \n",
       "3                     7                       0         76.8              1.7   \n",
       "4                     6                       0         41.8              4.2   \n",
       "\n",
       "                    CourseName  CapstoneScore  \n",
       "0            Foundations of ML           45.3  \n",
       "1            Foundations of ML           78.8  \n",
       "2            Foundations of ML           65.4  \n",
       "3  Production-Ready ML Systems          100.0  \n",
       "4            Foundations of ML           40.1  "
      ]
     },
     "execution_count": 50,
     "metadata": {},
     "output_type": "execute_result"
    }
   ],
   "source": [
    "df = pd.read_csv('zuucrew.csv')\n",
    "df.head()\n",
    "\n"
   ]
  },
  {
   "cell_type": "code",
   "execution_count": 51,
   "id": "ce27e005",
   "metadata": {},
   "outputs": [
    {
     "data": {
      "text/html": [
       "<div>\n",
       "<style scoped>\n",
       "    .dataframe tbody tr th:only-of-type {\n",
       "        vertical-align: middle;\n",
       "    }\n",
       "\n",
       "    .dataframe tbody tr th {\n",
       "        vertical-align: top;\n",
       "    }\n",
       "\n",
       "    .dataframe thead th {\n",
       "        text-align: right;\n",
       "    }\n",
       "</style>\n",
       "<table border=\"1\" class=\"dataframe\">\n",
       "  <thead>\n",
       "    <tr style=\"text-align: right;\">\n",
       "      <th></th>\n",
       "      <th>MemberName</th>\n",
       "      <th>EducationLevel</th>\n",
       "      <th>Attendance</th>\n",
       "      <th>TotalHours</th>\n",
       "      <th>AssignmentsCompleted</th>\n",
       "      <th>HackathonParticipation</th>\n",
       "      <th>GitHubScore</th>\n",
       "      <th>PeerReviewScore</th>\n",
       "      <th>CourseName</th>\n",
       "      <th>CapstoneScore</th>\n",
       "    </tr>\n",
       "  </thead>\n",
       "  <tbody>\n",
       "    <tr>\n",
       "      <th>0</th>\n",
       "      <td>Theekshana Rathnayake</td>\n",
       "      <td>3</td>\n",
       "      <td>79.9</td>\n",
       "      <td>43.7</td>\n",
       "      <td>2</td>\n",
       "      <td>0</td>\n",
       "      <td>62.8</td>\n",
       "      <td>5.0</td>\n",
       "      <td>Foundations of ML</td>\n",
       "      <td>45.3</td>\n",
       "    </tr>\n",
       "    <tr>\n",
       "      <th>1</th>\n",
       "      <td>Mayura Sandakalum Sellapperuma</td>\n",
       "      <td>2</td>\n",
       "      <td>76.8</td>\n",
       "      <td>95.6</td>\n",
       "      <td>6</td>\n",
       "      <td>0</td>\n",
       "      <td>87.4</td>\n",
       "      <td>2.7</td>\n",
       "      <td>Foundations of ML</td>\n",
       "      <td>78.8</td>\n",
       "    </tr>\n",
       "    <tr>\n",
       "      <th>2</th>\n",
       "      <td>Amila Narangoda</td>\n",
       "      <td>3</td>\n",
       "      <td>96.6</td>\n",
       "      <td>75.9</td>\n",
       "      <td>8</td>\n",
       "      <td>0</td>\n",
       "      <td>98.4</td>\n",
       "      <td>2.8</td>\n",
       "      <td>Foundations of ML</td>\n",
       "      <td>65.4</td>\n",
       "    </tr>\n",
       "    <tr>\n",
       "      <th>4</th>\n",
       "      <td>Tharusha Vihanga</td>\n",
       "      <td>2</td>\n",
       "      <td>83.2</td>\n",
       "      <td>24.0</td>\n",
       "      <td>6</td>\n",
       "      <td>0</td>\n",
       "      <td>41.8</td>\n",
       "      <td>4.2</td>\n",
       "      <td>Foundations of ML</td>\n",
       "      <td>40.1</td>\n",
       "    </tr>\n",
       "    <tr>\n",
       "      <th>7</th>\n",
       "      <td>Chamath Perera</td>\n",
       "      <td>3</td>\n",
       "      <td>86.5</td>\n",
       "      <td>88.0</td>\n",
       "      <td>5</td>\n",
       "      <td>0</td>\n",
       "      <td>23.9</td>\n",
       "      <td>1.3</td>\n",
       "      <td>Foundations of ML</td>\n",
       "      <td>68.2</td>\n",
       "    </tr>\n",
       "  </tbody>\n",
       "</table>\n",
       "</div>"
      ],
      "text/plain": [
       "                       MemberName  EducationLevel  Attendance  TotalHours  \\\n",
       "0           Theekshana Rathnayake               3        79.9        43.7   \n",
       "1  Mayura Sandakalum Sellapperuma               2        76.8        95.6   \n",
       "2                 Amila Narangoda               3        96.6        75.9   \n",
       "4                Tharusha Vihanga               2        83.2        24.0   \n",
       "7                  Chamath Perera               3        86.5        88.0   \n",
       "\n",
       "   AssignmentsCompleted  HackathonParticipation  GitHubScore  PeerReviewScore  \\\n",
       "0                     2                       0         62.8              5.0   \n",
       "1                     6                       0         87.4              2.7   \n",
       "2                     8                       0         98.4              2.8   \n",
       "4                     6                       0         41.8              4.2   \n",
       "7                     5                       0         23.9              1.3   \n",
       "\n",
       "          CourseName  CapstoneScore  \n",
       "0  Foundations of ML           45.3  \n",
       "1  Foundations of ML           78.8  \n",
       "2  Foundations of ML           65.4  \n",
       "4  Foundations of ML           40.1  \n",
       "7  Foundations of ML           68.2  "
      ]
     },
     "execution_count": 51,
     "metadata": {},
     "output_type": "execute_result"
    }
   ],
   "source": [
    "df = df[df['CourseName']=='Foundations of ML']\n",
    "df.head()"
   ]
  },
  {
   "cell_type": "code",
   "execution_count": 52,
   "id": "09d02ef1",
   "metadata": {},
   "outputs": [],
   "source": [
    "X = df[['EducationLevel', 'Attendance', 'TotalHours', 'AssignmentsCompleted', \n",
    "        'HackathonParticipation', 'GitHubScore', 'PeerReviewScore']].values   \n",
    "y = df[\"CapstoneScore\"].values\n",
    "\n",
    "y = y.reshape(-1, 1)  \n",
    "\n",
    "\n",
    "X_scaled = (X - X.mean(axis=0)) / X.std(axis=0)\n",
    "\n",
    "\n",
    "X_with_bias = np.hstack((np.ones((X_scaled.shape[0], 1)), X_scaled))\n",
    "\n",
    "\n"
   ]
  },
  {
   "cell_type": "code",
   "execution_count": 53,
   "id": "f72f0ba6",
   "metadata": {},
   "outputs": [],
   "source": [
    "def create_polynomial_features(X, degree):\n",
    "    \n",
    "    n_samples, n_features = X.shape\n",
    "    X_poly = [np.ones(n_samples)] \n",
    "    \n",
    "    for deg in range(1, degree+1):\n",
    "        for items in combinations_with_replacement(range(n_features), deg):\n",
    "            new_feature = np.prod(X[:, items], axis=1)\n",
    "            X_poly.append(new_feature)\n",
    "    \n",
    "    return np.vstack(X_poly).T"
   ]
  },
  {
   "cell_type": "code",
   "execution_count": 54,
   "id": "eafe1454",
   "metadata": {},
   "outputs": [],
   "source": [
    "def fit_polynomial(X, y, degree, learning_rate=0.01, iterations=1000):\n",
    "    X_poly = create_polynomial_features(X, degree)\n",
    "    \n",
    "    \n",
    "    beta = np.zeros((X_poly.shape[1], 1))\n",
    "    m = len(y)\n",
    "    cost_history = []\n",
    "    \n",
    "    for i in range(iterations):\n",
    "        y_pred = X_poly.dot(beta)\n",
    "        error = y_pred - y\n",
    "        gradients = (1/m) * X_poly.T.dot(error)\n",
    "        beta -= learning_rate * gradients\n",
    "        cost = (1/(2*m)) * np.sum(error**2)\n",
    "        cost_history.append(cost)\n",
    "    \n",
    "    return beta, cost_history"
   ]
  },
  {
   "cell_type": "code",
   "execution_count": 55,
   "id": "24f9a4f9",
   "metadata": {},
   "outputs": [],
   "source": [
    "def predict_polynomial(X, beta, degree):\n",
    "    X_poly = create_polynomial_features(X, degree)\n",
    "    return X_poly.dot(beta)"
   ]
  },
  {
   "cell_type": "code",
   "execution_count": 57,
   "id": "382aa438",
   "metadata": {},
   "outputs": [
    {
     "name": "stdout",
     "output_type": "stream",
     "text": [
      "Final cost: 7.5167035690340605\n",
      "Coefficients: [14.24369116 14.24369116 -0.12195188  0.39705214  8.07584883 -0.20522591\n",
      " -1.21240133  0.56271143  0.90934422 14.24369116 -0.12195188  0.39705214\n",
      "  8.07584883 -0.20522591 -1.21240133  0.56271143  0.90934422  0.65569261\n",
      "  0.2820101   0.35877172  0.06090535  0.67343978  0.35795095 -1.19863595\n",
      " -1.75618599 -0.33947321  1.00484109 -0.25634912 -0.07265974  0.4879941\n",
      " -0.10307571  1.09609939  0.35213389 -0.25984729 -0.27374729 -0.31046474\n",
      " -0.34200895 -0.12586888  0.31530933 13.97258998  0.05633556  0.20287099\n",
      " -0.734255   -0.47814134  0.58913393]\n"
     ]
    }
   ],
   "source": [
    "beta, history = fit_polynomial(X_with_bias, y, degree=2, learning_rate=0.01, iterations=10000)\n",
    "\n",
    "print(\"Final cost:\", history[-1])\n",
    "print(\"Coefficients:\", beta.flatten())\n",
    "\n",
    "y_pred = predict_polynomial(X_with_bias, beta, degree=2)"
   ]
  },
  {
   "cell_type": "markdown",
   "id": "c6ef6c02",
   "metadata": {},
   "source": [
    "## Evalution Metrices"
   ]
  },
  {
   "cell_type": "code",
   "execution_count": null,
   "id": "f2140522",
   "metadata": {},
   "outputs": [],
   "source": [
    "def mean_squared_error(y_true, y_pred):\n",
    "    return np.mean((y_true - y_pred) ** 2)"
   ]
  },
  {
   "cell_type": "code",
   "execution_count": null,
   "id": "07122c2b",
   "metadata": {},
   "outputs": [],
   "source": [
    "def mean_absolute_error(y_true, y_pred):\n",
    "    return np.mean(np.abs(y_true - y_pred))"
   ]
  },
  {
   "cell_type": "code",
   "execution_count": null,
   "id": "c7f537e4",
   "metadata": {},
   "outputs": [],
   "source": [
    "def root_mean_squared_error(y_true, y_pred):\n",
    "    return np.sqrt(mean_squared_error(y_true, y_pred))"
   ]
  },
  {
   "cell_type": "code",
   "execution_count": null,
   "id": "02a2e371",
   "metadata": {},
   "outputs": [],
   "source": [
    "def r2_score(y_true, y_pred):\n",
    "    ss_res = np.sum((y_true - y_pred) ** 2)  \n",
    "    ss_tot = np.sum((y_true - np.mean(y_true)) ** 2) \n",
    "    return 1 - (ss_res / ss_tot)"
   ]
  },
  {
   "cell_type": "code",
   "execution_count": null,
   "id": "fd59bafc",
   "metadata": {},
   "outputs": [
    {
     "name": "stdout",
     "output_type": "stream",
     "text": [
      "MSE: 237256117.02409846\n",
      "MAE: 14808.672540909123\n",
      "RMSE: 15403.1203664744\n",
      "R²: -830353.1710822392\n"
     ]
    }
   ],
   "source": [
    "print(\"MSE:\", mean_squared_error(y, y_pred))\n",
    "print(\"MAE:\", mean_absolute_error(y, y_pred))\n",
    "print(\"RMSE:\", root_mean_squared_error(y, y_pred))\n",
    "print(\"R²:\", r2_score(y, y_pred))"
   ]
  }
 ],
 "metadata": {
  "kernelspec": {
   "display_name": "miniproject",
   "language": "python",
   "name": "python3"
  },
  "language_info": {
   "codemirror_mode": {
    "name": "ipython",
    "version": 3
   },
   "file_extension": ".py",
   "mimetype": "text/x-python",
   "name": "python",
   "nbconvert_exporter": "python",
   "pygments_lexer": "ipython3",
   "version": "3.10.18"
  }
 },
 "nbformat": 4,
 "nbformat_minor": 5
}
