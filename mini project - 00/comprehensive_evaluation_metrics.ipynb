{
 "cells": [
  {
   "cell_type": "markdown",
   "id": "ca933245",
   "metadata": {},
   "source": [
    "# Comprehensive Evaluation Metrics"
   ]
  },
  {
   "cell_type": "code",
   "execution_count": 70,
   "id": "b2643c9a",
   "metadata": {},
   "outputs": [],
   "source": [
    "import numpy as np \n",
    "import pandas as pd \n",
    "import seaborn as sns\n",
    "import matplotlib.pyplot as plt \n",
    "from sklearn.linear_model import LogisticRegression"
   ]
  },
  {
   "cell_type": "code",
   "execution_count": 71,
   "id": "4077cb48",
   "metadata": {},
   "outputs": [
    {
     "data": {
      "text/html": [
       "<div>\n",
       "<style scoped>\n",
       "    .dataframe tbody tr th:only-of-type {\n",
       "        vertical-align: middle;\n",
       "    }\n",
       "\n",
       "    .dataframe tbody tr th {\n",
       "        vertical-align: top;\n",
       "    }\n",
       "\n",
       "    .dataframe thead th {\n",
       "        text-align: right;\n",
       "    }\n",
       "</style>\n",
       "<table border=\"1\" class=\"dataframe\">\n",
       "  <thead>\n",
       "    <tr style=\"text-align: right;\">\n",
       "      <th></th>\n",
       "      <th>MemberName</th>\n",
       "      <th>EducationLevel</th>\n",
       "      <th>Attendance</th>\n",
       "      <th>TotalHours</th>\n",
       "      <th>AssignmentsCompleted</th>\n",
       "      <th>HackathonParticipation</th>\n",
       "      <th>GitHubScore</th>\n",
       "      <th>PeerReviewScore</th>\n",
       "      <th>CourseName</th>\n",
       "      <th>CapstoneScore</th>\n",
       "    </tr>\n",
       "  </thead>\n",
       "  <tbody>\n",
       "    <tr>\n",
       "      <th>0</th>\n",
       "      <td>Theekshana Rathnayake</td>\n",
       "      <td>3</td>\n",
       "      <td>79.9</td>\n",
       "      <td>43.7</td>\n",
       "      <td>2</td>\n",
       "      <td>0</td>\n",
       "      <td>62.8</td>\n",
       "      <td>5.0</td>\n",
       "      <td>Foundations of ML</td>\n",
       "      <td>45.3</td>\n",
       "    </tr>\n",
       "    <tr>\n",
       "      <th>1</th>\n",
       "      <td>Mayura Sandakalum Sellapperuma</td>\n",
       "      <td>2</td>\n",
       "      <td>76.8</td>\n",
       "      <td>95.6</td>\n",
       "      <td>6</td>\n",
       "      <td>0</td>\n",
       "      <td>87.4</td>\n",
       "      <td>2.7</td>\n",
       "      <td>Foundations of ML</td>\n",
       "      <td>78.8</td>\n",
       "    </tr>\n",
       "    <tr>\n",
       "      <th>2</th>\n",
       "      <td>Amila Narangoda</td>\n",
       "      <td>3</td>\n",
       "      <td>96.6</td>\n",
       "      <td>75.9</td>\n",
       "      <td>8</td>\n",
       "      <td>0</td>\n",
       "      <td>98.4</td>\n",
       "      <td>2.8</td>\n",
       "      <td>Foundations of ML</td>\n",
       "      <td>65.4</td>\n",
       "    </tr>\n",
       "    <tr>\n",
       "      <th>3</th>\n",
       "      <td>Nisal Gamage</td>\n",
       "      <td>1</td>\n",
       "      <td>74.5</td>\n",
       "      <td>63.9</td>\n",
       "      <td>7</td>\n",
       "      <td>0</td>\n",
       "      <td>76.8</td>\n",
       "      <td>1.7</td>\n",
       "      <td>Production-Ready ML Systems</td>\n",
       "      <td>100.0</td>\n",
       "    </tr>\n",
       "    <tr>\n",
       "      <th>4</th>\n",
       "      <td>Tharusha Vihanga</td>\n",
       "      <td>2</td>\n",
       "      <td>83.2</td>\n",
       "      <td>24.0</td>\n",
       "      <td>6</td>\n",
       "      <td>0</td>\n",
       "      <td>41.8</td>\n",
       "      <td>4.2</td>\n",
       "      <td>Foundations of ML</td>\n",
       "      <td>40.1</td>\n",
       "    </tr>\n",
       "  </tbody>\n",
       "</table>\n",
       "</div>"
      ],
      "text/plain": [
       "                       MemberName  EducationLevel  Attendance  TotalHours  \\\n",
       "0           Theekshana Rathnayake               3        79.9        43.7   \n",
       "1  Mayura Sandakalum Sellapperuma               2        76.8        95.6   \n",
       "2                 Amila Narangoda               3        96.6        75.9   \n",
       "3                    Nisal Gamage               1        74.5        63.9   \n",
       "4                Tharusha Vihanga               2        83.2        24.0   \n",
       "\n",
       "   AssignmentsCompleted  HackathonParticipation  GitHubScore  PeerReviewScore  \\\n",
       "0                     2                       0         62.8              5.0   \n",
       "1                     6                       0         87.4              2.7   \n",
       "2                     8                       0         98.4              2.8   \n",
       "3                     7                       0         76.8              1.7   \n",
       "4                     6                       0         41.8              4.2   \n",
       "\n",
       "                    CourseName  CapstoneScore  \n",
       "0            Foundations of ML           45.3  \n",
       "1            Foundations of ML           78.8  \n",
       "2            Foundations of ML           65.4  \n",
       "3  Production-Ready ML Systems          100.0  \n",
       "4            Foundations of ML           40.1  "
      ]
     },
     "execution_count": 71,
     "metadata": {},
     "output_type": "execute_result"
    }
   ],
   "source": [
    "df = pd.read_csv('zuucrew.csv')\n",
    "df.head()"
   ]
  },
  {
   "cell_type": "code",
   "execution_count": null,
   "id": "02614168",
   "metadata": {},
   "outputs": [
    {
     "data": {
      "text/html": [
       "<div>\n",
       "<style scoped>\n",
       "    .dataframe tbody tr th:only-of-type {\n",
       "        vertical-align: middle;\n",
       "    }\n",
       "\n",
       "    .dataframe tbody tr th {\n",
       "        vertical-align: top;\n",
       "    }\n",
       "\n",
       "    .dataframe thead th {\n",
       "        text-align: right;\n",
       "    }\n",
       "</style>\n",
       "<table border=\"1\" class=\"dataframe\">\n",
       "  <thead>\n",
       "    <tr style=\"text-align: right;\">\n",
       "      <th></th>\n",
       "      <th>MemberName</th>\n",
       "      <th>EducationLevel</th>\n",
       "      <th>Attendance</th>\n",
       "      <th>TotalHours</th>\n",
       "      <th>AssignmentsCompleted</th>\n",
       "      <th>HackathonParticipation</th>\n",
       "      <th>GitHubScore</th>\n",
       "      <th>PeerReviewScore</th>\n",
       "      <th>CourseName</th>\n",
       "      <th>CapstoneScore</th>\n",
       "      <th>Pass_Fail</th>\n",
       "    </tr>\n",
       "  </thead>\n",
       "  <tbody>\n",
       "    <tr>\n",
       "      <th>0</th>\n",
       "      <td>Theekshana Rathnayake</td>\n",
       "      <td>3</td>\n",
       "      <td>79.9</td>\n",
       "      <td>43.7</td>\n",
       "      <td>2</td>\n",
       "      <td>0</td>\n",
       "      <td>62.8</td>\n",
       "      <td>5.0</td>\n",
       "      <td>Foundations of ML</td>\n",
       "      <td>45.3</td>\n",
       "      <td>0</td>\n",
       "    </tr>\n",
       "    <tr>\n",
       "      <th>1</th>\n",
       "      <td>Mayura Sandakalum Sellapperuma</td>\n",
       "      <td>2</td>\n",
       "      <td>76.8</td>\n",
       "      <td>95.6</td>\n",
       "      <td>6</td>\n",
       "      <td>0</td>\n",
       "      <td>87.4</td>\n",
       "      <td>2.7</td>\n",
       "      <td>Foundations of ML</td>\n",
       "      <td>78.8</td>\n",
       "      <td>1</td>\n",
       "    </tr>\n",
       "    <tr>\n",
       "      <th>2</th>\n",
       "      <td>Amila Narangoda</td>\n",
       "      <td>3</td>\n",
       "      <td>96.6</td>\n",
       "      <td>75.9</td>\n",
       "      <td>8</td>\n",
       "      <td>0</td>\n",
       "      <td>98.4</td>\n",
       "      <td>2.8</td>\n",
       "      <td>Foundations of ML</td>\n",
       "      <td>65.4</td>\n",
       "      <td>0</td>\n",
       "    </tr>\n",
       "    <tr>\n",
       "      <th>4</th>\n",
       "      <td>Tharusha Vihanga</td>\n",
       "      <td>2</td>\n",
       "      <td>83.2</td>\n",
       "      <td>24.0</td>\n",
       "      <td>6</td>\n",
       "      <td>0</td>\n",
       "      <td>41.8</td>\n",
       "      <td>4.2</td>\n",
       "      <td>Foundations of ML</td>\n",
       "      <td>40.1</td>\n",
       "      <td>0</td>\n",
       "    </tr>\n",
       "    <tr>\n",
       "      <th>7</th>\n",
       "      <td>Chamath Perera</td>\n",
       "      <td>3</td>\n",
       "      <td>86.5</td>\n",
       "      <td>88.0</td>\n",
       "      <td>5</td>\n",
       "      <td>0</td>\n",
       "      <td>23.9</td>\n",
       "      <td>1.3</td>\n",
       "      <td>Foundations of ML</td>\n",
       "      <td>68.2</td>\n",
       "      <td>0</td>\n",
       "    </tr>\n",
       "  </tbody>\n",
       "</table>\n",
       "</div>"
      ],
      "text/plain": [
       "                       MemberName  EducationLevel  Attendance  TotalHours  \\\n",
       "0           Theekshana Rathnayake               3        79.9        43.7   \n",
       "1  Mayura Sandakalum Sellapperuma               2        76.8        95.6   \n",
       "2                 Amila Narangoda               3        96.6        75.9   \n",
       "4                Tharusha Vihanga               2        83.2        24.0   \n",
       "7                  Chamath Perera               3        86.5        88.0   \n",
       "\n",
       "   AssignmentsCompleted  HackathonParticipation  GitHubScore  PeerReviewScore  \\\n",
       "0                     2                       0         62.8              5.0   \n",
       "1                     6                       0         87.4              2.7   \n",
       "2                     8                       0         98.4              2.8   \n",
       "4                     6                       0         41.8              4.2   \n",
       "7                     5                       0         23.9              1.3   \n",
       "\n",
       "          CourseName  CapstoneScore  Pass_Fail  \n",
       "0  Foundations of ML           45.3          0  \n",
       "1  Foundations of ML           78.8          1  \n",
       "2  Foundations of ML           65.4          0  \n",
       "4  Foundations of ML           40.1          0  \n",
       "7  Foundations of ML           68.2          0  "
      ]
     },
     "execution_count": 72,
     "metadata": {},
     "output_type": "execute_result"
    }
   ],
   "source": [
    "df = df[df['CourseName']=='Foundations of ML']\n",
    "df[\"Pass_Fail\"] = (df[\"CapstoneScore\"] >= 75).astype(int) # Binary pass/fail based on CapstoneScore\n",
    "\n",
    "df.head()"
   ]
  },
  {
   "cell_type": "code",
   "execution_count": null,
   "id": "b22355b0",
   "metadata": {},
   "outputs": [
    {
     "name": "stdout",
     "output_type": "stream",
     "text": [
      "[43.7 95.6 75.9 24.  88.  97.3 26.5 57.2 48.9 36.2 65.1 22.6 36.3 51.\n",
      " 56.3 15.9 96.9 18.8 54.6 91.8 69.6 38.1 26.6 97.3 94.6 27.6 39.3 34.4\n",
      " 42.1 35.3 98.8 27.9 10.5 73.6 75.6 79.4 16.7 39.8 15.7 67.4 74.2 78.5\n",
      " 60.5 79.4 54.4 57.  48.5 12.3 67.3 38.3 91.7 32.4 46.9 93.7 67.  88.4\n",
      " 90.3 58.5 82.7 83.6 10.6 56.  47.6 94.9 39.1 56.7 73.3 42.7 97.5 35.6\n",
      " 13.3 55.2] [0 1 0 0 0 1 0 0 0 0 0 0 0 0 0 0 1 0 0 1 0 0 0 1 1 0 0 0 0 0 1 0 0 0 0 0 0\n",
      " 0 0 0 0 0 0 0 0 0 0 0 0 0 0 0 0 1 0 1 0 0 1 0 0 0 0 1 0 0 0 0 1 0 0 0]\n"
     ]
    }
   ],
   "source": [
    "X = df['TotalHours'].values\n",
    "y = df['Pass_Fail'].values\n",
    "\n",
    "\n",
    "print(X, y)\n",
    "\n",
    "\n",
    "X_mean = np.mean(X)\n",
    "X_std = np.std(X)\n",
    "X_normalized = (X - X_mean) / X_std\n",
    "X_bias_normalized = np.c_[np.ones((X_normalized.shape[0], 1)), X_normalized] # Adding bias term for intercept and normalizing\n"
   ]
  },
  {
   "cell_type": "code",
   "execution_count": 74,
   "id": "dc157291",
   "metadata": {},
   "outputs": [],
   "source": [
    "def sigmoid(z):\n",
    "    return 1 / (1 + np.exp(-z))"
   ]
  },
  {
   "cell_type": "code",
   "execution_count": 75,
   "id": "f16c92f4",
   "metadata": {},
   "outputs": [],
   "source": [
    "def compute_logistic_cost(X, y, theta):\n",
    "    m = len(y)\n",
    "    h = sigmoid(X.dot(theta))\n",
    "    epsilon = 1e-15\n",
    "    pos_component = np.sum(y * np.log(h + epsilon))\n",
    "    neg_component = np.sum((1 - y) * np.log(1 - h + epsilon))\n",
    "    return (-1/m) * (pos_component + neg_component)"
   ]
  },
  {
   "cell_type": "code",
   "execution_count": 76,
   "id": "1b37f03e",
   "metadata": {},
   "outputs": [],
   "source": [
    "def compute_logistic_gradients(X, y, theta):\n",
    "    m = len(y)\n",
    "    h = sigmoid(X.dot(theta))\n",
    "    gradients = (1/m) * X.T.dot(h - y)\n",
    "    return gradients\n"
   ]
  },
  {
   "cell_type": "code",
   "execution_count": 77,
   "id": "e5dc64f6",
   "metadata": {},
   "outputs": [],
   "source": [
    "def logistic_gradient_descent(X, y, learning_rate=0.1, iterations=10000):\n",
    "    m, n = X.shape\n",
    "    theta = np.zeros((n, 1))\n",
    "    y = y.reshape(-1, 1)\n",
    "    cost_history = []\n",
    "\n",
    "    for i in range(iterations):\n",
    "        gradients = compute_logistic_gradients(X, y, theta)\n",
    "        theta -= learning_rate * gradients\n",
    "        cost = compute_logistic_cost(X, y, theta)\n",
    "        cost_history.append(cost)\n",
    "\n",
    "        if i % 100 == 0:\n",
    "           \n",
    "            print(f\"Iteration {i}: Cost = {cost} Theta = {theta.ravel()}\")\n",
    "\n",
    "    return theta, cost_history"
   ]
  },
  {
   "cell_type": "code",
   "execution_count": 78,
   "id": "45225523",
   "metadata": {},
   "outputs": [],
   "source": [
    "def predict_proba(X, theta):\n",
    "    return sigmoid(X.dot(theta))"
   ]
  },
  {
   "cell_type": "code",
   "execution_count": 79,
   "id": "08df1dde",
   "metadata": {},
   "outputs": [],
   "source": [
    "def predict_class(X, theta, threshold=0.5):\n",
    "    probs = predict_proba(X, theta)\n",
    "    return (probs >= threshold).astype(int)"
   ]
  },
  {
   "cell_type": "code",
   "execution_count": 80,
   "id": "7cecdddf",
   "metadata": {},
   "outputs": [
    {
     "name": "stdout",
     "output_type": "stream",
     "text": [
      "Iteration 0: Cost = 0.6765078804761052 Theta = [-0.03333333  0.02395576]\n",
      "Iteration 100: Cost = 0.2774277130348578 Theta = [-1.48423212  1.14701906]\n",
      "Iteration 200: Cost = 0.2228331647025461 Theta = [-2.01799002  1.64791259]\n",
      "Iteration 300: Cost = 0.19814227405881057 Theta = [-2.37823278  1.98806438]\n",
      "Iteration 400: Cost = 0.18319216194433727 Theta = [-2.66212015  2.24983478]\n",
      "Iteration 500: Cost = 0.17284339589591274 Theta = [-2.90063462  2.46537791]\n",
      "Iteration 600: Cost = 0.16510606112455622 Theta = [-3.10832921  2.65024676]\n",
      "Iteration 700: Cost = 0.15902472717327698 Theta = [-3.29343482  2.81309938]\n",
      "Iteration 800: Cost = 0.15407479586185494 Theta = [-3.46112675  2.95926577]\n",
      "Iteration 900: Cost = 0.149940384237394 Theta = [-3.6148969  3.0922759]\n",
      "Iteration 1000: Cost = 0.1464179954161583 Theta = [-3.75722574  3.21459866]\n",
      "Iteration 1100: Cost = 0.14336958535422573 Theta = [-3.88994639  3.32803491]\n",
      "Iteration 1200: Cost = 0.14069761193643363 Theta = [-4.01445681  3.43394267]\n",
      "Iteration 1300: Cost = 0.1383308367419756 Theta = [-4.13185073  3.53337411]\n",
      "Iteration 1400: Cost = 0.13621579188823413 Theta = [-4.24300226  3.62716289]\n",
      "Iteration 1500: Cost = 0.13431141609034875 Theta = [-4.34862262  3.71598204]\n",
      "Iteration 1600: Cost = 0.13258555376766498 Theta = [-4.44929938  3.80038378]\n",
      "Iteration 1700: Cost = 0.13101259596881645 Theta = [-4.54552447  3.88082749]\n",
      "Iteration 1800: Cost = 0.12957184642559275 Theta = [-4.6377145   3.95769997]\n",
      "Iteration 1900: Cost = 0.1282463624745649 Theta = [-4.72622592  4.03133037]\n",
      "Iteration 2000: Cost = 0.1270221154057236 Theta = [-4.81136642  4.10200147]\n",
      "Iteration 2100: Cost = 0.12588737081043572 Theta = [-4.89340379  4.16995821]\n",
      "Iteration 2200: Cost = 0.12483222365702307 Theta = [-4.97257275  4.23541438]\n",
      "Iteration 2300: Cost = 0.123848244243673 Theta = [-5.0490804   4.29855784]\n",
      "Iteration 2400: Cost = 0.12292820495389753 Theta = [-5.12311051  4.35955471]\n",
      "Iteration 2500: Cost = 0.12206586679978615 Theta = [-5.19482709  4.41855265]\n",
      "Iteration 2600: Cost = 0.12125581081910614 Theta = [-5.26437718  4.47568367]\n",
      "Iteration 2700: Cost = 0.12049330354935768 Theta = [-5.33189321  4.53106624]\n",
      "Iteration 2800: Cost = 0.11977418869187206 Theta = [-5.39749498  4.58480724]\n",
      "Iteration 2900: Cost = 0.11909479911923333 Theta = [-5.46129125  4.6370034 ]\n",
      "Iteration 3000: Cost = 0.11845188484004539 Theta = [-5.52338111  4.68774263]\n",
      "Iteration 3100: Cost = 0.11784255359462295 Theta = [-5.58385515  4.73710509]\n",
      "Iteration 3200: Cost = 0.11726422153303935 Theta = [-5.64279646  4.7851641 ]\n",
      "Iteration 3300: Cost = 0.11671457200442296 Theta = [-5.70028141  4.83198693]\n",
      "Iteration 3400: Cost = 0.11619152091955794 Theta = [-5.75638045  4.87763545]\n",
      "Iteration 3500: Cost = 0.11569318747692901 Theta = [-5.81115869  4.92216675]\n",
      "Iteration 3600: Cost = 0.11521786929311068 Theta = [-5.86467647  4.96563362]\n",
      "Iteration 3700: Cost = 0.11476402117168723 Theta = [-5.91698981  5.00808496]\n",
      "Iteration 3800: Cost = 0.11433023689507266 Theta = [-5.96815086  5.04956621]\n",
      "Iteration 3900: Cost = 0.11391523354116286 Theta = [-6.01820823  5.09011965]\n",
      "Iteration 4000: Cost = 0.11351783791943666 Theta = [-6.06720734  5.12978472]\n",
      "Iteration 4100: Cost = 0.11313697479467914 Theta = [-6.11519069  5.16859824]\n",
      "Iteration 4200: Cost = 0.11277165662524667 Theta = [-6.16219811  5.2065947 ]\n",
      "Iteration 4300: Cost = 0.11242097458999156 Theta = [-6.20826703  5.24380639]\n",
      "Iteration 4400: Cost = 0.11208409071609947 Theta = [-6.25343261  5.28026367]\n",
      "Iteration 4500: Cost = 0.11176023095107303 Theta = [-6.29772798  5.31599505]\n",
      "Iteration 4600: Cost = 0.11144867904738727 Theta = [-6.34118437  5.35102739]\n",
      "Iteration 4700: Cost = 0.11114877114909737 Theta = [-6.38383126  5.38538602]\n",
      "Iteration 4800: Cost = 0.11085989098678527 Theta = [-6.42569655  5.41909483]\n",
      "Iteration 4900: Cost = 0.1105814656013954 Theta = [-6.46680663  5.45217644]\n",
      "Iteration 5000: Cost = 0.11031296152928495 Theta = [-6.50718649  5.48465222]\n",
      "Iteration 5100: Cost = 0.11005388139064576 Theta = [-6.54685987  5.51654244]\n",
      "Iteration 5200: Cost = 0.1098037608316927 Theta = [-6.5858493   5.54786631]\n",
      "Iteration 5300: Cost = 0.10956216577794306 Theta = [-6.62417618  5.57864209]\n",
      "Iteration 5400: Cost = 0.10932868996176237 Theta = [-6.66186091  5.60888712]\n",
      "Iteration 5500: Cost = 0.10910295269230481 Theta = [-6.69892289  5.63861789]\n",
      "Iteration 5600: Cost = 0.1088845968401889 Theta = [-6.73538062  5.66785011]\n",
      "Iteration 5700: Cost = 0.10867328701283714 Theta = [-6.77125176  5.69659876]\n",
      "Iteration 5800: Cost = 0.10846870789947803 Theta = [-6.80655317  5.72487812]\n",
      "Iteration 5900: Cost = 0.10827056276744063 Theta = [-6.84130095  5.75270183]\n",
      "Iteration 6000: Cost = 0.10807857209363447 Theta = [-6.87551052  5.78008291]\n",
      "Iteration 6100: Cost = 0.10789247231706049 Theta = [-6.90919662  5.80703381]\n",
      "Iteration 6200: Cost = 0.1077120146998842 Theta = [-6.94237338  5.83356647]\n",
      "Iteration 6300: Cost = 0.10753696428606596 Theta = [-6.97505433  5.85969229]\n",
      "Iteration 6400: Cost = 0.10736709894781288 Theta = [-7.00725247  5.8854222 ]\n",
      "Iteration 6500: Cost = 0.1072022085112234 Theta = [-7.03898025  5.91076671]\n",
      "Iteration 6600: Cost = 0.10704209395346177 Theta = [-7.07024966  5.93573586]\n",
      "Iteration 6700: Cost = 0.10688656666464297 Theta = [-7.10107218  5.96033932]\n",
      "Iteration 6800: Cost = 0.1067354477683513 Theta = [-7.13145888  5.98458638]\n",
      "Iteration 6900: Cost = 0.10658856749536412 Theta = [-7.16142039  6.00848595]\n",
      "Iteration 7000: Cost = 0.10644576460572616 Theta = [-7.19096697  6.03204662]\n",
      "Iteration 7100: Cost = 0.10630688585482441 Theta = [-7.22010848  6.05527665]\n",
      "Iteration 7200: Cost = 0.10617178549955876 Theta = [-7.24885442  6.07818398]\n",
      "Iteration 7300: Cost = 0.10604032484110029 Theta = [-7.27721396  6.10077629]\n",
      "Iteration 7400: Cost = 0.10591237180107711 Theta = [-7.30519594  6.12306095]\n",
      "Iteration 7500: Cost = 0.10578780052834015 Theta = [-7.33280889  6.14504509]\n",
      "Iteration 7600: Cost = 0.10566649103373713 Theta = [-7.36006105  6.16673557]\n",
      "Iteration 7700: Cost = 0.10554832885056999 Theta = [-7.38696038  6.18813903]\n",
      "Iteration 7800: Cost = 0.10543320471863073 Theta = [-7.41351457  6.20926188]\n",
      "Iteration 7900: Cost = 0.10532101428990752 Theta = [-7.43973106  6.2301103 ]\n",
      "Iteration 8000: Cost = 0.10521165785422895 Theta = [-7.46561704  6.25069028]\n",
      "Iteration 8100: Cost = 0.10510504008327248 Theta = [-7.49117946  6.27100759]\n",
      "Iteration 8200: Cost = 0.10500106979150414 Theta = [-7.51642507  6.29106784]\n",
      "Iteration 8300: Cost = 0.10489965971274513 Theta = [-7.54136039  6.31087644]\n",
      "Iteration 8400: Cost = 0.10480072629117411 Theta = [-7.56599174  6.33043862]\n",
      "Iteration 8500: Cost = 0.10470418948567947 Theta = [-7.59032525  6.34975948]\n",
      "Iteration 8600: Cost = 0.10460997258656686 Theta = [-7.61436685  6.36884393]\n",
      "Iteration 8700: Cost = 0.10451800204371335 Theta = [-7.6381223   6.38769673]\n",
      "Iteration 8800: Cost = 0.10442820730533574 Theta = [-7.66159719  6.40632252]\n",
      "Iteration 8900: Cost = 0.1043405206666081 Theta = [-7.68479694  6.42472577]\n",
      "Iteration 9000: Cost = 0.10425487712742873 Theta = [-7.70772682  6.44291083]\n",
      "Iteration 9100: Cost = 0.10417121425869133 Theta = [-7.73039193  6.46088193]\n",
      "Iteration 9200: Cost = 0.10408947207646894 Theta = [-7.75279725  6.47864317]\n",
      "Iteration 9300: Cost = 0.10400959292356449 Theta = [-7.7749476   6.49619853]\n",
      "Iteration 9400: Cost = 0.10393152135792569 Theta = [-7.79684767  6.51355188]\n",
      "Iteration 9500: Cost = 0.1038552040474614 Theta = [-7.81850202  6.53070697]\n",
      "Iteration 9600: Cost = 0.1037805896708312 Theta = [-7.83991509  6.54766746]\n",
      "Iteration 9700: Cost = 0.10370762882381325 Theta = [-7.8610912   6.56443691]\n",
      "Iteration 9800: Cost = 0.10363627393088515 Theta = [-7.88203453  6.58101876]\n",
      "Iteration 9900: Cost = 0.10356647916167999 Theta = [-7.90274918  6.59741639]\n",
      "Final theta: [[-7.92303534]\n",
      " [ 6.61347178]]\n",
      "Predicted probabilities: [1.61884540e-05 8.75641176e-01 4.85106897e-02 1.17218544e-07\n",
      " 5.12651425e-01 9.15060169e-01 2.19077258e-07 4.73862199e-04\n",
      " 5.94451885e-05 2.47975212e-06 3.40905547e-03 8.25847325e-08\n",
      " 2.54256629e-06 1.00517974e-04 3.78370430e-04 1.54528669e-08\n",
      " 9.06952940e-01 3.19202467e-08 2.47334911e-04 7.31294621e-01\n",
      " 1.04338312e-02 3.98863587e-06 2.24626679e-07 9.15060169e-01\n",
      " 8.45747695e-01 2.88470705e-07 5.38508141e-06 1.58072356e-06\n",
      " 1.08488334e-05 1.97984924e-06 9.40041838e-01 3.10952339e-07\n",
      " 4.00267996e-09 2.78792328e-02 4.51617956e-02 1.09028218e-01\n",
      " 1.88764963e-08 6.10256151e-06 1.46987696e-08 6.04445336e-03\n",
      " 3.22484408e-02 8.90050344e-02 1.08118857e-03 1.09028218e-01\n",
      " 2.35267849e-04 4.50748227e-04 5.37852267e-05 6.27918964e-09\n",
      " 5.89600506e-03 4.19326571e-06 7.26350682e-01 9.58463066e-07\n",
      " 3.60450852e-05 8.14042295e-01 5.47206056e-03 5.37598396e-01\n",
      " 6.51575158e-01 6.55851497e-04 2.18368646e-01 2.59213552e-01\n",
      " 4.10407140e-09 3.51024110e-04 4.29428976e-05 8.55286133e-01\n",
      " 5.12229169e-06 4.18173067e-04 2.59158206e-02 1.26056871e-05\n",
      " 9.18868927e-01 2.13414624e-06 8.06387908e-09 2.87377175e-04]\n",
      "Predicted classes: [0 1 0 0 1 1 0 0 0 0 0 0 0 0 0 0 1 0 0 1 0 0 0 1 1 0 0 0 0 0 1 0 0 0 0 0 0\n",
      " 0 0 0 0 0 0 0 0 0 0 0 0 0 1 0 0 1 0 1 1 0 0 0 0 0 0 1 0 0 0 0 1 0 0 0]\n"
     ]
    },
    {
     "data": {
      "image/png": "[encoded data removed]",
      "text/plain": [
       "<Figure size 1200x700 with 1 Axes>"
      ]
     },
     "metadata": {},
     "output_type": "display_data"
    }
   ],
   "source": [
    "theta, cost_history = logistic_gradient_descent(X_bias_normalized, y, learning_rate=0.1, iterations=10000)\n",
    "print(\"Final theta:\", theta)\n",
    "# Predict\n",
    "y_pred_probs = predict_proba(X_bias_normalized, theta)\n",
    "y_pred_class = predict_class(X_bias_normalized, theta)\n",
    "\n",
    "print(\"Predicted probabilities:\", y_pred_probs.ravel())\n",
    "print(\"Predicted classes:\", y_pred_class.ravel())\n",
    "\n",
    "\n",
    "# Smooth curve\n",
    "X_curve = np.linspace(X_normalized.min(), X_normalized.max(), 100).reshape(-1,1)\n",
    "X_curve_bias = np.c_[np.ones((X_curve.shape[0], 1)), X_curve]\n",
    "y_curve = predict_proba(X_curve_bias, theta)\n",
    "\n",
    "plt.figure(figsize=(12, 7))\n",
    "plt.scatter(X_normalized, y, color='blue', label=\"Data points\")\n",
    "plt.plot(X_curve, y_curve, color='red', label=\"Sigmoid boundary\")\n",
    "plt.axhline(0.5, color='green', linestyle='--', label=\"Decision threshold\")\n",
    "plt.xlabel(\"Total Hours (normalized)\")\n",
    "plt.ylabel(\"Probability of Pass\")\n",
    "plt.legend()\n",
    "plt.show()"
   ]
  },
  {
   "cell_type": "markdown",
   "id": "13d662f6",
   "metadata": {},
   "source": [
    "## Evalution Metrics"
   ]
  },
  {
   "cell_type": "markdown",
   "id": "8c2912a5",
   "metadata": {},
   "source": [
    "### Confusion matrix"
   ]
  },
  {
   "cell_type": "code",
   "execution_count": 81,
   "id": "8bc6b8d2",
   "metadata": {},
   "outputs": [],
   "source": [
    "def compute_confusion_matrix(Y, y_prob):\n",
    "    TP = np.sum((Y == 1) & (y_prob == 1))\n",
    "    FP = np.sum((Y == 0) & (y_prob == 1))\n",
    "    TN = np.sum((Y == 0) & (y_prob == 0))\n",
    "    FN = np.sum((Y == 1) & (y_prob == 0))\n",
    "    return np.array(\n",
    "                    [\n",
    "                    [TN, FP],\n",
    "                    [FN, TP]\n",
    "                    ],\n",
    "                    dtype=int\n",
    "                    )"
   ]
  },
  {
   "cell_type": "code",
   "execution_count": 97,
   "id": "01fc678d",
   "metadata": {},
   "outputs": [
    {
     "name": "stdout",
     "output_type": "stream",
     "text": [
      "Confusion Matrix:\n",
      " [[3480  840]\n",
      " [ 696  168]]\n"
     ]
    },
    {
     "data": {
      "image/png": "[encoded data removed]",
      "text/plain": [
       "<Figure size 640x480 with 2 Axes>"
      ]
     },
     "metadata": {},
     "output_type": "display_data"
    }
   ],
   "source": [
    "cm = compute_confusion_matrix(y, y_pred_class)\n",
    "print(\"Confusion Matrix:\\n\", cm)\n",
    "sns.heatmap(cm, annot=True, fmt='d', cmap='Blues')\n",
    "plt.xlabel('y_prob')\n",
    "plt.ylabel('Y')\n",
    "plt.title('Confusion Matrix')\n",
    "plt.show()"
   ]
  },
  {
   "cell_type": "code",
   "execution_count": null,
   "id": "2aade0ad",
   "metadata": {},
   "outputs": [],
   "source": [
    "def precision_score(cm):\n",
    "    TP = cm[1,1]\n",
    "    FP = cm[0,1]\n",
    "    return TP / (TP + FP)\n"
   ]
  },
  {
   "cell_type": "code",
   "execution_count": null,
   "id": "5396012c",
   "metadata": {},
   "outputs": [],
   "source": [
    "def accuracy(cm):\n",
    "    TP = cm[1,1]\n",
    "    FP = cm[0,1]\n",
    "    FN = cm[1,0]\n",
    "    TN = cm[0,0]\n",
    "    return (TP + TN) / (TP + TN + FP + FN)"
   ]
  },
  {
   "cell_type": "code",
   "execution_count": null,
   "id": "451b13a8",
   "metadata": {},
   "outputs": [],
   "source": [
    "def recall_score(cm):\n",
    "    TP = cm[1,1]\n",
    "    FN = cm[1,0]\n",
    "    return TP / (TP +FN)"
   ]
  },
  {
   "cell_type": "code",
   "execution_count": null,
   "id": "33d295fa",
   "metadata": {},
   "outputs": [],
   "source": [
    "def f1_score(cm):\n",
    "    p = precision_score(cm)\n",
    "    r = recall_score(cm) \n",
    "    return (2 * p * r) / (p + r)"
   ]
  },
  {
   "cell_type": "code",
   "execution_count": 88,
   "id": "747974f3",
   "metadata": {},
   "outputs": [
    {
     "name": "stdout",
     "output_type": "stream",
     "text": [
      "Precision : 0.16666666666666666\n",
      "Recall : 0.19444444444444445\n",
      "F1 Score : 0.1794871794871795\n",
      "Accuracy : 0.7037037037037037\n"
     ]
    }
   ],
   "source": [
    "cm = compute_confusion_matrix(y, y_pred_class) \n",
    "p = precision_score(cm)\n",
    "r = recall_score(cm) \n",
    "f1 = f1_score(cm)\n",
    "acc = accuracy(cm)\n",
    "\n",
    "print(f\"Precision : {p}\")\n",
    "print(f\"Recall : {r}\")\n",
    "print(f\"F1 Score : {f1}\")\n",
    "print(f\"Accuracy : {acc}\")"
   ]
  },
  {
   "cell_type": "code",
   "execution_count": 85,
   "id": "465c3db4",
   "metadata": {},
   "outputs": [],
   "source": [
    "def roc_curve(Y, Y_proba):\n",
    "    thresholds = np.linspace(0, 1, 200) \n",
    "\n",
    "    tpr_list = []\n",
    "    fpr_list = []\n",
    "\n",
    "    for t in thresholds:\n",
    "        y_prob = (Y_proba >= t).astype(int)\n",
    "        \n",
    "        TP = np.sum((Y == 1) & (y_prob == 1))\n",
    "        FP = np.sum((Y == 0) & (y_prob == 1))\n",
    "        TN = np.sum((Y == 0) & (y_prob == 0))\n",
    "        FN = np.sum((Y == 1) & (y_prob == 0))\n",
    "\n",
    "        tpr = TP / (TP + FN)\n",
    "        fpr = FP / (FP + TN)\n",
    "        \n",
    "        tpr_list.append(tpr)\n",
    "        fpr_list.append(fpr)\n",
    "\n",
    "    return np.array(tpr_list), np.array(fpr_list), np.array(thresholds)"
   ]
  },
  {
   "cell_type": "code",
   "execution_count": 100,
   "id": "ee2dca78",
   "metadata": {},
   "outputs": [],
   "source": [
    "def auc(fpr, tpr):\n",
    "    sorted_indices = np.argsort(fpr)\n",
    "    fpr_sorted = fpr[sorted_indices]\n",
    "    tpr_sorted = tpr[sorted_indices]\n",
    "    return np.trapezoid(tpr, fpr)"
   ]
  },
  {
   "cell_type": "code",
   "execution_count": 101,
   "id": "824a7e28",
   "metadata": {},
   "outputs": [
    {
     "name": "stdout",
     "output_type": "stream",
     "text": [
      "AUC: -0.49999999999999994\n"
     ]
    },
    {
     "data": {
      "image/png": "[encoded data removed]",
      "text/plain": [
       "<Figure size 640x480 with 1 Axes>"
      ]
     },
     "metadata": {},
     "output_type": "display_data"
    }
   ],
   "source": [
    "tpr, fpr, _ = roc_curve(y, y_pred_probs)\n",
    "auc_value = auc(fpr, tpr)\n",
    "print(f\"AUC: {auc_value}\")\n",
    "plt.plot(fpr, tpr, label='LogReg')\n",
    "plt.xlabel(\"FPR\")\n",
    "plt.ylabel(\"TPR\")\n",
    "plt.title(\"ROC Curve\")\n",
    "plt.show()"
   ]
  }
 ],
 "metadata": {
  "kernelspec": {
   "display_name": "miniproject",
   "language": "python",
   "name": "python3"
  },
  "language_info": {
   "codemirror_mode": {
    "name": "ipython",
    "version": 3
   },
   "file_extension": ".py",
   "mimetype": "text/x-python",
   "name": "python",
   "nbconvert_exporter": "python",
   "pygments_lexer": "ipython3",
   "version": "3.10.18"
  }
 },
 "nbformat": 4,
 "nbformat_minor": 5
}
