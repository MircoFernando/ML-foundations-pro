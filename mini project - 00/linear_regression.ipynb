{
 "cells": [
  {
   "cell_type": "markdown",
   "id": "24e1f48e",
   "metadata": {},
   "source": [
    "# Part 1 Linear regression\n"
   ]
  },
  {
   "cell_type": "markdown",
   "id": "652f1676",
   "metadata": {},
   "source": [
    "## Importing Libraries"
   ]
  },
  {
   "cell_type": "code",
   "execution_count": 188,
   "id": "c9e639b2",
   "metadata": {},
   "outputs": [],
   "source": [
    "import numpy as np\n",
    "import pandas as pd \n",
    "import matplotlib.pyplot as plt"
   ]
  },
  {
   "cell_type": "code",
   "execution_count": 189,
   "id": "6838b7b6",
   "metadata": {},
   "outputs": [
    {
     "data": {
      "text/html": [
       "<div>\n",
       "<style scoped>\n",
       "    .dataframe tbody tr th:only-of-type {\n",
       "        vertical-align: middle;\n",
       "    }\n",
       "\n",
       "    .dataframe tbody tr th {\n",
       "        vertical-align: top;\n",
       "    }\n",
       "\n",
       "    .dataframe thead th {\n",
       "        text-align: right;\n",
       "    }\n",
       "</style>\n",
       "<table border=\"1\" class=\"dataframe\">\n",
       "  <thead>\n",
       "    <tr style=\"text-align: right;\">\n",
       "      <th></th>\n",
       "      <th>MemberName</th>\n",
       "      <th>EducationLevel</th>\n",
       "      <th>Attendance</th>\n",
       "      <th>TotalHours</th>\n",
       "      <th>AssignmentsCompleted</th>\n",
       "      <th>HackathonParticipation</th>\n",
       "      <th>GitHubScore</th>\n",
       "      <th>PeerReviewScore</th>\n",
       "      <th>CourseName</th>\n",
       "      <th>CapstoneScore</th>\n",
       "    </tr>\n",
       "  </thead>\n",
       "  <tbody>\n",
       "    <tr>\n",
       "      <th>0</th>\n",
       "      <td>Theekshana Rathnayake</td>\n",
       "      <td>3</td>\n",
       "      <td>79.9</td>\n",
       "      <td>43.7</td>\n",
       "      <td>2</td>\n",
       "      <td>0</td>\n",
       "      <td>62.8</td>\n",
       "      <td>5.0</td>\n",
       "      <td>Foundations of ML</td>\n",
       "      <td>45.3</td>\n",
       "    </tr>\n",
       "    <tr>\n",
       "      <th>1</th>\n",
       "      <td>Mayura Sandakalum Sellapperuma</td>\n",
       "      <td>2</td>\n",
       "      <td>76.8</td>\n",
       "      <td>95.6</td>\n",
       "      <td>6</td>\n",
       "      <td>0</td>\n",
       "      <td>87.4</td>\n",
       "      <td>2.7</td>\n",
       "      <td>Foundations of ML</td>\n",
       "      <td>78.8</td>\n",
       "    </tr>\n",
       "    <tr>\n",
       "      <th>2</th>\n",
       "      <td>Amila Narangoda</td>\n",
       "      <td>3</td>\n",
       "      <td>96.6</td>\n",
       "      <td>75.9</td>\n",
       "      <td>8</td>\n",
       "      <td>0</td>\n",
       "      <td>98.4</td>\n",
       "      <td>2.8</td>\n",
       "      <td>Foundations of ML</td>\n",
       "      <td>65.4</td>\n",
       "    </tr>\n",
       "    <tr>\n",
       "      <th>3</th>\n",
       "      <td>Nisal Gamage</td>\n",
       "      <td>1</td>\n",
       "      <td>74.5</td>\n",
       "      <td>63.9</td>\n",
       "      <td>7</td>\n",
       "      <td>0</td>\n",
       "      <td>76.8</td>\n",
       "      <td>1.7</td>\n",
       "      <td>Production-Ready ML Systems</td>\n",
       "      <td>100.0</td>\n",
       "    </tr>\n",
       "    <tr>\n",
       "      <th>4</th>\n",
       "      <td>Tharusha Vihanga</td>\n",
       "      <td>2</td>\n",
       "      <td>83.2</td>\n",
       "      <td>24.0</td>\n",
       "      <td>6</td>\n",
       "      <td>0</td>\n",
       "      <td>41.8</td>\n",
       "      <td>4.2</td>\n",
       "      <td>Foundations of ML</td>\n",
       "      <td>40.1</td>\n",
       "    </tr>\n",
       "  </tbody>\n",
       "</table>\n",
       "</div>"
      ],
      "text/plain": [
       "                       MemberName  EducationLevel  Attendance  TotalHours  \\\n",
       "0           Theekshana Rathnayake               3        79.9        43.7   \n",
       "1  Mayura Sandakalum Sellapperuma               2        76.8        95.6   \n",
       "2                 Amila Narangoda               3        96.6        75.9   \n",
       "3                    Nisal Gamage               1        74.5        63.9   \n",
       "4                Tharusha Vihanga               2        83.2        24.0   \n",
       "\n",
       "   AssignmentsCompleted  HackathonParticipation  GitHubScore  PeerReviewScore  \\\n",
       "0                     2                       0         62.8              5.0   \n",
       "1                     6                       0         87.4              2.7   \n",
       "2                     8                       0         98.4              2.8   \n",
       "3                     7                       0         76.8              1.7   \n",
       "4                     6                       0         41.8              4.2   \n",
       "\n",
       "                    CourseName  CapstoneScore  \n",
       "0            Foundations of ML           45.3  \n",
       "1            Foundations of ML           78.8  \n",
       "2            Foundations of ML           65.4  \n",
       "3  Production-Ready ML Systems          100.0  \n",
       "4            Foundations of ML           40.1  "
      ]
     },
     "execution_count": 189,
     "metadata": {},
     "output_type": "execute_result"
    }
   ],
   "source": [
    "df = pd.read_csv('zuucrew.csv')\n",
    "df.head()\n",
    "\n"
   ]
  },
  {
   "cell_type": "code",
   "execution_count": 190,
   "id": "3d03d4ff",
   "metadata": {},
   "outputs": [
    {
     "data": {
      "text/html": [
       "<div>\n",
       "<style scoped>\n",
       "    .dataframe tbody tr th:only-of-type {\n",
       "        vertical-align: middle;\n",
       "    }\n",
       "\n",
       "    .dataframe tbody tr th {\n",
       "        vertical-align: top;\n",
       "    }\n",
       "\n",
       "    .dataframe thead th {\n",
       "        text-align: right;\n",
       "    }\n",
       "</style>\n",
       "<table border=\"1\" class=\"dataframe\">\n",
       "  <thead>\n",
       "    <tr style=\"text-align: right;\">\n",
       "      <th></th>\n",
       "      <th>MemberName</th>\n",
       "      <th>EducationLevel</th>\n",
       "      <th>Attendance</th>\n",
       "      <th>TotalHours</th>\n",
       "      <th>AssignmentsCompleted</th>\n",
       "      <th>HackathonParticipation</th>\n",
       "      <th>GitHubScore</th>\n",
       "      <th>PeerReviewScore</th>\n",
       "      <th>CourseName</th>\n",
       "      <th>CapstoneScore</th>\n",
       "    </tr>\n",
       "  </thead>\n",
       "  <tbody>\n",
       "    <tr>\n",
       "      <th>0</th>\n",
       "      <td>Theekshana Rathnayake</td>\n",
       "      <td>3</td>\n",
       "      <td>79.9</td>\n",
       "      <td>43.7</td>\n",
       "      <td>2</td>\n",
       "      <td>0</td>\n",
       "      <td>62.8</td>\n",
       "      <td>5.0</td>\n",
       "      <td>Foundations of ML</td>\n",
       "      <td>45.3</td>\n",
       "    </tr>\n",
       "    <tr>\n",
       "      <th>1</th>\n",
       "      <td>Mayura Sandakalum Sellapperuma</td>\n",
       "      <td>2</td>\n",
       "      <td>76.8</td>\n",
       "      <td>95.6</td>\n",
       "      <td>6</td>\n",
       "      <td>0</td>\n",
       "      <td>87.4</td>\n",
       "      <td>2.7</td>\n",
       "      <td>Foundations of ML</td>\n",
       "      <td>78.8</td>\n",
       "    </tr>\n",
       "    <tr>\n",
       "      <th>2</th>\n",
       "      <td>Amila Narangoda</td>\n",
       "      <td>3</td>\n",
       "      <td>96.6</td>\n",
       "      <td>75.9</td>\n",
       "      <td>8</td>\n",
       "      <td>0</td>\n",
       "      <td>98.4</td>\n",
       "      <td>2.8</td>\n",
       "      <td>Foundations of ML</td>\n",
       "      <td>65.4</td>\n",
       "    </tr>\n",
       "    <tr>\n",
       "      <th>4</th>\n",
       "      <td>Tharusha Vihanga</td>\n",
       "      <td>2</td>\n",
       "      <td>83.2</td>\n",
       "      <td>24.0</td>\n",
       "      <td>6</td>\n",
       "      <td>0</td>\n",
       "      <td>41.8</td>\n",
       "      <td>4.2</td>\n",
       "      <td>Foundations of ML</td>\n",
       "      <td>40.1</td>\n",
       "    </tr>\n",
       "    <tr>\n",
       "      <th>7</th>\n",
       "      <td>Chamath Perera</td>\n",
       "      <td>3</td>\n",
       "      <td>86.5</td>\n",
       "      <td>88.0</td>\n",
       "      <td>5</td>\n",
       "      <td>0</td>\n",
       "      <td>23.9</td>\n",
       "      <td>1.3</td>\n",
       "      <td>Foundations of ML</td>\n",
       "      <td>68.2</td>\n",
       "    </tr>\n",
       "  </tbody>\n",
       "</table>\n",
       "</div>"
      ],
      "text/plain": [
       "                       MemberName  EducationLevel  Attendance  TotalHours  \\\n",
       "0           Theekshana Rathnayake               3        79.9        43.7   \n",
       "1  Mayura Sandakalum Sellapperuma               2        76.8        95.6   \n",
       "2                 Amila Narangoda               3        96.6        75.9   \n",
       "4                Tharusha Vihanga               2        83.2        24.0   \n",
       "7                  Chamath Perera               3        86.5        88.0   \n",
       "\n",
       "   AssignmentsCompleted  HackathonParticipation  GitHubScore  PeerReviewScore  \\\n",
       "0                     2                       0         62.8              5.0   \n",
       "1                     6                       0         87.4              2.7   \n",
       "2                     8                       0         98.4              2.8   \n",
       "4                     6                       0         41.8              4.2   \n",
       "7                     5                       0         23.9              1.3   \n",
       "\n",
       "          CourseName  CapstoneScore  \n",
       "0  Foundations of ML           45.3  \n",
       "1  Foundations of ML           78.8  \n",
       "2  Foundations of ML           65.4  \n",
       "4  Foundations of ML           40.1  \n",
       "7  Foundations of ML           68.2  "
      ]
     },
     "execution_count": 190,
     "metadata": {},
     "output_type": "execute_result"
    }
   ],
   "source": [
    "df = df[df['CourseName']=='Foundations of ML']\n",
    "df.head()"
   ]
  },
  {
   "cell_type": "code",
   "execution_count": 191,
   "id": "9df5d61b",
   "metadata": {},
   "outputs": [
    {
     "name": "stdout",
     "output_type": "stream",
     "text": [
      "[-0.46997415  1.49313718  0.74798702 -1.2151243   1.20566808  1.55743948\n",
      " -1.1205621   0.04066175 -0.27328477 -0.75366076  0.33947831 -1.26807914\n",
      " -0.74987827 -0.19385252  0.00661935 -1.52150584  1.54230953 -1.41181369\n",
      " -0.05768294  1.34940263  0.50969027 -0.68179348 -1.11677961  1.55743948\n",
      "  1.4553123  -1.07895473 -0.63640362 -0.82174554 -0.53049396 -0.78770315\n",
      "  1.6141768  -1.06760727 -1.7257602   0.6609898   0.73663956  0.88037411\n",
      " -1.49124594 -0.61749118 -1.52907082  0.42647553  0.68368473  0.84633171\n",
      "  0.16548385  0.88037411 -0.06524792  0.03309677 -0.28841472 -1.65767541\n",
      "  0.42269305 -0.6742285   1.34562014 -0.8973953  -0.34893453  1.42126991\n",
      "  0.41134558  1.22079804  1.29266531  0.08983409  1.00519621  1.03923861\n",
      " -1.72197771 -0.00472811 -0.32245711  1.46665976 -0.6439686   0.02174931\n",
      "  0.64964233 -0.50779903  1.56500445 -0.77635568 -1.61985053 -0.03498801] [-0.58025407  1.40158225  0.60884773 -0.88788239  0.77449375  2.02275483\n",
      " -1.28424966 -0.02415671 -0.65716115 -0.65124522 -0.0419045  -0.81689124\n",
      " -1.01803284 -0.02415671  0.30713533 -1.88175852  1.51990084 -1.30791337\n",
      " -0.34953282  1.32467517  0.59109994 -1.01211691 -1.3729886   1.66188314\n",
      "  1.51990084 -1.33749302 -0.58025407 -0.60983371 -0.15430716 -0.90563018\n",
      "  1.5731442  -0.87605053 -1.56229833  0.28347161  0.1592371   0.60884773\n",
      " -1.23100629 -0.9292939  -1.47355939  0.47869728  0.27755568  0.86323269\n",
      "  0.22431232  0.89281233  0.99338313  0.11782559 -0.01824078 -1.36115674\n",
      "  0.53785657 -0.94704169  1.03479464 -0.89971425  0.27163975  1.26551588\n",
      "  0.08824595  1.26551588  1.14128136 -0.18980273  1.49032119  0.65617516\n",
      " -1.55046648  0.16515303 -0.74590009  1.80978138 -0.56842221 -0.43827176\n",
      "  0.79815746  0.06458223  1.68554686 -0.68082487 -1.3729886  -0.13655937]\n"
     ]
    }
   ],
   "source": [
    "X = df['TotalHours'].values\n",
    "y = df['CapstoneScore'].values\n",
    "\n",
    "X = (X - np.mean(X)) / np.std(X)\n",
    "y = (y - np.mean(y)) / np.std(y)\n",
    "\n",
    "print(X, y)\n"
   ]
  },
  {
   "cell_type": "code",
   "execution_count": 192,
   "id": "b216c0b4",
   "metadata": {},
   "outputs": [
    {
     "data": {
      "image/png": "[encoded data removed]",
      "text/plain": [
       "<Figure size 1000x600 with 1 Axes>"
      ]
     },
     "metadata": {},
     "output_type": "display_data"
    }
   ],
   "source": [
    "plt.figure(figsize=(10, 6))\n",
    "plt.scatter(X, y, color='blue', s=50)\n",
    "plt.title('Total Hours vs Capstone Score')\n",
    "plt.xlabel('Total Hours')\n",
    "plt.ylabel('Capstone Score')\n",
    "plt.show()"
   ]
  },
  {
   "cell_type": "markdown",
   "id": "23c12893",
   "metadata": {},
   "source": [
    " #### Implementing linear regression"
   ]
  },
  {
   "cell_type": "code",
   "execution_count": 193,
   "id": "65cad4f6",
   "metadata": {},
   "outputs": [],
   "source": [
    "def compute_cost(X, y, beta_0, beta_1):\n",
    "    m = len(y)\n",
    "    predictions = beta_0 + beta_1 * X\n",
    "    cost = (1 / (2 * m)) * np.sum((predictions - y) ** 2)\n",
    "    return cost\n",
    "   "
   ]
  },
  {
   "cell_type": "code",
   "execution_count": 194,
   "id": "b89f30e6",
   "metadata": {},
   "outputs": [
    {
     "data": {
      "text/plain": [
       "np.float64(0.5891053955946247)"
      ]
     },
     "execution_count": 194,
     "metadata": {},
     "output_type": "execute_result"
    }
   ],
   "source": [
    "compute_cost(X, y, 0, 2)"
   ]
  },
  {
   "cell_type": "code",
   "execution_count": 195,
   "id": "bc0b4c9f",
   "metadata": {},
   "outputs": [],
   "source": [
    "def compute_gradient(X, y, beta_0, beta_1):\n",
    "    m = len(y)\n",
    "    predictions = beta_0 + beta_1 * X\n",
    "    gradient_beta_0 = (1 / m) * np.sum(predictions - y) \n",
    "    gradient_beta_1 = (1 / m) * np.sum((predictions - y) * X)\n",
    "    return gradient_beta_0, gradient_beta_1\n",
    "    "
   ]
  },
  {
   "cell_type": "code",
   "execution_count": 196,
   "id": "43d4d3a4",
   "metadata": {},
   "outputs": [
    {
     "data": {
      "text/plain": [
       "(np.float64(-4.440892098500626e-16), np.float64(1.0445526977973123))"
      ]
     },
     "execution_count": 196,
     "metadata": {},
     "output_type": "execute_result"
    }
   ],
   "source": [
    "compute_gradient(X, y, 0, 2)"
   ]
  },
  {
   "cell_type": "code",
   "execution_count": 197,
   "id": "cba2e184",
   "metadata": {},
   "outputs": [],
   "source": [
    "def gradient_descent(X, y, learning_rate, iterations):\n",
    "    m = len(y)\n",
    "    beta_0 = 0\n",
    "    beta_1 = 0\n",
    "    \n",
    "    for i in range(iterations):\n",
    "        gradient_beta_0, gradient_beta_1 = compute_gradient(X, y, beta_0, beta_1)\n",
    "        beta_0 -= learning_rate * gradient_beta_0\n",
    "        beta_1 -= learning_rate * gradient_beta_1\n",
    "        plt.scatter(beta_0,compute_cost(X, y, beta_0, beta_1))\n",
    "        if i % 100 == 0:\n",
    "            print(f\"Iteration {i}: beta_0 = {beta_0}, beta_1 = {beta_1}, cost = {compute_cost(X, y, beta_0, beta_1)}, learning_rate = {learning_rate}\")\n",
    "\n",
    "\n",
    "    \n",
    "    plt.xlabel('Slope (m)')\n",
    "    plt.ylabel('Cost')\n",
    "    plt.show()\n",
    "        \n",
    "    return beta_0, beta_1\n",
    "\n",
    "    "
   ]
  },
  {
   "cell_type": "code",
   "execution_count": 198,
   "id": "e8a611d4",
   "metadata": {},
   "outputs": [],
   "source": [
    "# gradient_descent(X, y, learning_rate=0.01, iterations=1000)"
   ]
  },
  {
   "cell_type": "code",
   "execution_count": 199,
   "id": "475e3254",
   "metadata": {},
   "outputs": [],
   "source": [
    "def predict(X, beta_0, beta_1):\n",
    "    return beta_0 + beta_1 * X"
   ]
  },
  {
   "cell_type": "code",
   "execution_count": 200,
   "id": "ea127232",
   "metadata": {},
   "outputs": [
    {
     "name": "stdout",
     "output_type": "stream",
     "text": [
      "Iteration 0: beta_0 = -6.784696261598179e-18, beta_1 = 0.09554473022026878, cost = 0.4132764430077926, learning_rate = 0.1\n",
      "Iteration 100: beta_0 = 1.6514567491299184e-16, beta_1 = 0.9554244619874689, cost = 0.04356022661764073, learning_rate = 0.1\n",
      "Iteration 200: beta_0 = 1.6637925605146423e-16, beta_1 = 0.9554473015960196, cost = 0.04356022635680302, learning_rate = 0.1\n",
      "Iteration 300: beta_0 = 1.6761283718993665e-16, beta_1 = 0.9554473022026715, cost = 0.04356022635680302, learning_rate = 0.1\n",
      "Iteration 400: beta_0 = 1.6545407019760997e-16, beta_1 = 0.9554473022026871, cost = 0.04356022635680302, learning_rate = 0.1\n",
      "Iteration 500: beta_0 = 1.6668765133608236e-16, beta_1 = 0.9554473022026871, cost = 0.04356022635680302, learning_rate = 0.1\n",
      "Iteration 600: beta_0 = 1.6422048905913757e-16, beta_1 = 0.9554473022026871, cost = 0.04356022635680302, learning_rate = 0.1\n",
      "Iteration 700: beta_0 = 1.6545407019760997e-16, beta_1 = 0.9554473022026871, cost = 0.04356022635680302, learning_rate = 0.1\n",
      "Iteration 800: beta_0 = 1.6668765133608236e-16, beta_1 = 0.9554473022026871, cost = 0.04356022635680302, learning_rate = 0.1\n",
      "Iteration 900: beta_0 = 1.6422048905913757e-16, beta_1 = 0.9554473022026871, cost = 0.04356022635680302, learning_rate = 0.1\n"
     ]
    },
    {
     "data": {
      "image/png": "[encoded data removed]",
      "text/plain": [
       "<Figure size 640x480 with 1 Axes>"
      ]
     },
     "metadata": {},
     "output_type": "display_data"
    },
    {
     "name": "stdout",
     "output_type": "stream",
     "text": [
      "Final parameters: beta_0 = 1.6514567491299187e-16, beta_1 = 0.9554473022026871 learning_rate = 1.0\n"
     ]
    },
    {
     "data": {
      "image/png": "[encoded data removed]",
      "text/plain": [
       "<Figure size 2000x1600 with 1 Axes>"
      ]
     },
     "metadata": {},
     "output_type": "display_data"
    }
   ],
   "source": [
    "final_beta_0, final_beta_1 = gradient_descent(X, y, learning_rate=0.1, iterations=1000)\n",
    "predictions = predict(X, final_beta_0, final_beta_1)\n",
    "\n",
    "plt.figure(figsize=(20, 16))\n",
    "plt.scatter(X, y, color='blue', s=50, label='Data Points')\n",
    "plt.plot(X, predictions, color='red', linewidth=2, label='Regression Line')\n",
    "\n",
    "print(f\"Final parameters: beta_0 = {final_beta_0}, beta_1 = {final_beta_1} learning_rate = {1.0}\")"
   ]
  },
  {
   "cell_type": "markdown",
   "id": "b623bc62",
   "metadata": {},
   "source": [
    "## Evalution Metrices"
   ]
  },
  {
   "cell_type": "code",
   "execution_count": 201,
   "id": "541b9e5a",
   "metadata": {},
   "outputs": [],
   "source": [
    "def mean_squared_error(y_true, y_pred):\n",
    "    return np.mean((y_true - y_pred) ** 2)"
   ]
  },
  {
   "cell_type": "code",
   "execution_count": 202,
   "id": "69734dec",
   "metadata": {},
   "outputs": [],
   "source": [
    "def mean_absolute_error(y_true, y_pred):\n",
    "    return np.mean(np.abs(y_true - y_pred))"
   ]
  },
  {
   "cell_type": "code",
   "execution_count": 1,
   "id": "3ed7f6db",
   "metadata": {},
   "outputs": [],
   "source": [
    "def root_mean_squared_error(y_true, y_pred):\n",
    "    return np.sqrt(mean_squared_error(y_true, y_pred))"
   ]
  },
  {
   "cell_type": "code",
   "execution_count": null,
   "id": "3b2939f8",
   "metadata": {},
   "outputs": [],
   "source": [
    "def r2_score(y_true, y_pred):\n",
    "    ss_res = np.sum((y_true - y_pred) ** 2)  \n",
    "    ss_tot = np.sum((y_true - np.mean(y_true)) ** 2) \n",
    "    return 1 - (ss_res / ss_tot)"
   ]
  },
  {
   "cell_type": "code",
   "execution_count": 205,
   "id": "66dbfba2",
   "metadata": {},
   "outputs": [
    {
     "name": "stdout",
     "output_type": "stream",
     "text": [
      "MSE: 0.08712045271360605\n",
      "MAE: 0.23279814684086306\n",
      "RMSE: 0.2951617399217013\n",
      "R²: 0.912879547286394\n"
     ]
    }
   ],
   "source": [
    "print(\"MSE:\", mean_squared_error(y, predictions))\n",
    "print(\"MAE:\", mean_absolute_error(y, predictions))\n",
    "print(\"RMSE:\", root_mean_squared_error(y, predictions))\n",
    "print(\"R²:\", r2_score(y, predictions))"
   ]
  },
  {
   "cell_type": "code",
   "execution_count": null,
   "id": "288dc4f1",
   "metadata": {},
   "outputs": [],
   "source": []
  }
 ],
 "metadata": {
  "kernelspec": {
   "display_name": "foml1",
   "language": "python",
   "name": "python3"
  },
  "language_info": {
   "codemirror_mode": {
    "name": "ipython",
    "version": 3
   },
   "file_extension": ".py",
   "mimetype": "text/x-python",
   "name": "python",
   "nbconvert_exporter": "python",
   "pygments_lexer": "ipython3",
   "version": "3.11.13"
  }
 },
 "nbformat": 4,
 "nbformat_minor": 5
}
